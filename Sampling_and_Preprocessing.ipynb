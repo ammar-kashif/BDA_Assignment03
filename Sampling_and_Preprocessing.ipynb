{
 "cells": [
  {
   "cell_type": "markdown",
   "metadata": {},
   "source": [
    "# BDA Assignment #3: Streaming Data Insights\n",
    "\n",
    "### Frequent Itemset Analysis on Amazon Metadata\n",
    "\n",
    "## Data Sampling and Preprocessing\n"
   ]
  },
  {
   "cell_type": "markdown",
   "metadata": {},
   "source": [
    "#### Group members:\n",
    "\n",
    "- Aaqib Ahmed Nazir (i22-1920),\n",
    "- Arhum Khan (i22-1967),\n",
    "- Ammar Khasif (i22-1968)\n",
    "\n",
    "##### Section: DS-D\n"
   ]
  },
  {
   "cell_type": "markdown",
   "metadata": {},
   "source": [
    "#### Libraries Used:\n"
   ]
  },
  {
   "cell_type": "code",
   "execution_count": 1,
   "metadata": {},
   "outputs": [],
   "source": [
    "import json\n",
    "from tqdm import tqdm\n",
    "import pandas as pd\n",
    "import re"
   ]
  },
  {
   "cell_type": "markdown",
   "metadata": {},
   "source": [
    "### Sampling the Data\n",
    "\n",
    "#### Extracting a 15GB sample from the original 105GB dataset\n"
   ]
  },
  {
   "cell_type": "code",
   "execution_count": 1,
   "metadata": {},
   "outputs": [
    {
     "name": "stderr",
     "output_type": "stream",
     "text": [
      "Processing H:\\All_Amazon_Meta.json: 9519286it [16:27, 9640.48it/s] "
     ]
    },
    {
     "name": "stdout",
     "output_type": "stream",
     "text": [
      "Finished sampling. Output size: 15.00 GB\n"
     ]
    },
    {
     "name": "stderr",
     "output_type": "stream",
     "text": [
      "\n"
     ]
    }
   ],
   "source": [
    "def sample_json(input_file, output_file, target_size_gb, filter_key='also_buy'):\n",
    "    target_size_bytes = target_size_gb * 1024**3\n",
    "    current_size_bytes = 0\n",
    "\n",
    "    # Reading the input file and writing the output file\n",
    "    with open(input_file, 'r', encoding='utf-8') as infile, open(output_file, 'w', encoding='utf-8') as outfile:\n",
    "        for line in tqdm(infile, desc=f\"Processing {input_file}\"):\n",
    "            record = json.loads(line)\n",
    "            # Filtering out records\n",
    "            if record.get(filter_key):\n",
    "                outfile.write(json.dumps(record) + '\\n')\n",
    "                current_size_bytes += len(line.encode('utf-8'))\n",
    "\n",
    "            if current_size_bytes >= target_size_bytes:\n",
    "                break\n",
    "\n",
    "    print(f\"Finished sampling. Output size: {current_size_bytes / 1024**3:.2f} GB\")\n",
    "\n",
    "sample_json('H:\\\\All_Amazon_Meta.json', 'Sampled_Amazon_Meta.json', 15)"
   ]
  },
  {
   "cell_type": "markdown",
   "metadata": {},
   "source": [
    "### Fixing JSON Errors\n"
   ]
  },
  {
   "cell_type": "code",
   "execution_count": 2,
   "metadata": {},
   "outputs": [],
   "source": [
    "def fix_common_json_errors(line):\n",
    "    # Removing extra commas\n",
    "    line = line.strip()\n",
    "    line = line.rstrip(\",\")\n",
    "    # Adding missing closing brackets\n",
    "    if not line.endswith(\"}\") and not line.endswith(\"]\"):\n",
    "        if \"{\" in line and \"}\" not in line:\n",
    "            line += \"}\"\n",
    "        elif \"[\" in line and \"]\" not in line:\n",
    "            line += \"]\"\n",
    "    return line"
   ]
  },
  {
   "cell_type": "markdown",
   "metadata": {},
   "source": [
    "#### Fixing the JSON errors and saving the fixed data in a new file\n"
   ]
  },
  {
   "cell_type": "code",
   "execution_count": 3,
   "metadata": {},
   "outputs": [],
   "source": [
    "def process_line_by_line(input_path, output_path):\n",
    "    errors_count = 0\n",
    "    with open(input_path, \"r\", encoding=\"utf-8\") as file, open(\n",
    "        output_path, \"w\", encoding=\"utf-8\"\n",
    "    ) as outfile:\n",
    "        # Process the file line by line\n",
    "        for line_number, line in enumerate(file, 1):\n",
    "            try:\n",
    "                corrected_line = fix_common_json_errors(line)\n",
    "                data = json.loads(corrected_line)\n",
    "                # Writing fixed JSON object to the file\n",
    "                json.dump(data, outfile)\n",
    "                outfile.write(\"\\n\")  \n",
    "            except json.JSONDecodeError as e:\n",
    "                errors_count += 1\n",
    "                print(f\"Error in line {line_number}: {e}\")\n",
    "    print(f\"Finished processing. Total errors: {errors_count}\")"
   ]
  },
  {
   "cell_type": "code",
   "execution_count": 4,
   "metadata": {},
   "outputs": [
    {
     "name": "stdout",
     "output_type": "stream",
     "text": [
      "Finished processing. Total errors: 0\n"
     ]
    }
   ],
   "source": [
    "input_file_path = \"Sampled_Amazon_Meta.json\"\n",
    "output_file_path = \"Corrected_Sample_Amazon_Meta.json\"\n",
    "\n",
    "process_line_by_line(input_file_path, output_file_path)"
   ]
  },
  {
   "cell_type": "markdown",
   "metadata": {},
   "source": [
    "### Preprocessing and Cleaning the Dataset\n"
   ]
  },
  {
   "cell_type": "markdown",
   "metadata": {},
   "source": [
    "#### Removing unwanted HTML tags, URLs, and normalizing the whitespace\n"
   ]
  },
  {
   "cell_type": "code",
   "execution_count": 5,
   "metadata": {},
   "outputs": [],
   "source": [
    "def clean_text(text):\n",
    "    unwanted_patterns = [\n",
    "        r\"<[^>]*>\",  # HTML tags\n",
    "        r\"https?:\\/\\/\\S+\",  # URLs\n",
    "        r\"P\\.when\\(.*?\\);\",  # JS snippets\n",
    "        r\"span class\\w+\",  # span classes\n",
    "    ]\n",
    "\n",
    "    if any(re.search(pattern, text) for pattern in unwanted_patterns):\n",
    "        return \"\"\n",
    "\n",
    "    # Removing back slashes, extra whitespaces, and punctuation\n",
    "    text = re.sub(r\"\\\\\", \"\", text)\n",
    "    text = re.sub(r\"\\s+\", \" \", text).strip()\n",
    "    text = re.sub(r\"[^\\w\\s]\", \"\", text)\n",
    "\n",
    "    return text"
   ]
  },
  {
   "cell_type": "markdown",
   "metadata": {},
   "source": [
    "#### Extracting and cleaning the relevant info\n"
   ]
  },
  {
   "cell_type": "code",
   "execution_count": 6,
   "metadata": {},
   "outputs": [],
   "source": [
    "def process_item_data(item_data):\n",
    "    # Extracting selected columns\n",
    "    asin = item_data.get(\"asin\", \"\")\n",
    "    title = clean_text(item_data.get(\"title\", \"No Title Available\"))\n",
    "    brand = item_data.get(\"brand\", \"Unknown Brand\")\n",
    "    categories = item_data.get(\"category\", [])\n",
    "\n",
    "    # Extracting related products\n",
    "    related_products = set(item_data.get(\"also_buy\", [])) | set(\n",
    "        item_data.get(\"also_viewed\", [])\n",
    "    )\n",
    "    related = list(related_products) if related_products else []\n",
    "\n",
    "    # Preparing preprocessed item data with selected cols\n",
    "    preprocessed_item = {\n",
    "        \"asin\": asin,\n",
    "        \"title\": title,\n",
    "        \"related\": related,\n",
    "        \"brand\": brand,\n",
    "        \"categories\": categories,\n",
    "    }\n",
    "\n",
    "    return preprocessed_item"
   ]
  },
  {
   "cell_type": "code",
   "execution_count": 7,
   "metadata": {},
   "outputs": [],
   "source": [
    "input_file_path = \"Sampled_Amazon_Meta.json\"\n",
    "output_file_path = \"preprocessed_dataset.json\"\n",
    "\n",
    "# Processing the input file and writing the preprocessed data to the output file\n",
    "item_data_collection = []\n",
    "with open(input_file_path, \"r\") as file_input, open(\n",
    "    output_file_path, \"w\"\n",
    ") as file_output:\n",
    "    for line in file_input:\n",
    "        # Loading JSON object from the file\n",
    "        raw_data = json.loads(line)\n",
    "        processed_item = process_item_data(raw_data)\n",
    "        item_data_collection.append(processed_item)\n",
    "        if len(item_data_collection) == 100:\n",
    "            break\n",
    "    json.dump(item_data_collection, file_output, indent=4)"
   ]
  },
  {
   "cell_type": "markdown",
   "metadata": {},
   "source": [
    "### Data Exploration"
   ]
  },
  {
   "cell_type": "code",
   "execution_count": 12,
   "metadata": {},
   "outputs": [
    {
     "data": {
      "text/html": [
       "<div>\n",
       "<style scoped>\n",
       "    .dataframe tbody tr th:only-of-type {\n",
       "        vertical-align: middle;\n",
       "    }\n",
       "\n",
       "    .dataframe tbody tr th {\n",
       "        vertical-align: top;\n",
       "    }\n",
       "\n",
       "    .dataframe thead th {\n",
       "        text-align: right;\n",
       "    }\n",
       "</style>\n",
       "<table border=\"1\" class=\"dataframe\">\n",
       "  <thead>\n",
       "    <tr style=\"text-align: right;\">\n",
       "      <th></th>\n",
       "      <th>asin</th>\n",
       "      <th>title</th>\n",
       "      <th>related</th>\n",
       "      <th>brand</th>\n",
       "      <th>categories</th>\n",
       "    </tr>\n",
       "  </thead>\n",
       "  <tbody>\n",
       "    <tr>\n",
       "      <th>19</th>\n",
       "      <td>8742240611</td>\n",
       "      <td>Leather and Jute Adjustable Believe Inspiratio...</td>\n",
       "      <td>[B018135A52, B00VOXQRAO, B00UVC6YAC, B01DP6GJD...</td>\n",
       "      <td>Gifts by Lulee, LLC</td>\n",
       "      <td>[Clothing, Shoes &amp; Jewelry, Men, Jewelry, Brac...</td>\n",
       "    </tr>\n",
       "    <tr>\n",
       "      <th>20</th>\n",
       "      <td>9543894027</td>\n",
       "      <td>Blue Simulated Sapphire Zirconia Austrian Crys...</td>\n",
       "      <td>[B00N4TIYGQ, B00VHTTN0G, B072HGDY91, B019HCYGZ...</td>\n",
       "      <td>Crystalline Azuria</td>\n",
       "      <td>[Clothing, Shoes &amp; Jewelry, Women, Jewelry, Je...</td>\n",
       "    </tr>\n",
       "    <tr>\n",
       "      <th>83</th>\n",
       "      <td>B000074RL3</td>\n",
       "      <td>Enell Womens WireFree Sports Bra</td>\n",
       "      <td>[B00XK08M6Q, B001013YQ0, B07GRFH27C, B0035WTMF...</td>\n",
       "      <td>Enell</td>\n",
       "      <td>[Clothing, Shoes &amp; Jewelry, Women, Clothing, L...</td>\n",
       "    </tr>\n",
       "    <tr>\n",
       "      <th>97</th>\n",
       "      <td>B0000862R1</td>\n",
       "      <td>Amoena Womens Frances FrontClosure Leisure Bra</td>\n",
       "      <td>[B00EJFEUPI, B01AQW9BV0, B0773WC9VP, B01J91GA4...</td>\n",
       "      <td>Amoena</td>\n",
       "      <td>[Clothing, Shoes &amp; Jewelry, Women, Clothing, L...</td>\n",
       "    </tr>\n",
       "    <tr>\n",
       "      <th>98</th>\n",
       "      <td>B0000866GL</td>\n",
       "      <td>Goddess Crepeset Soft Cup Bra</td>\n",
       "      <td>[B001JQLOWC]</td>\n",
       "      <td>Goddess</td>\n",
       "      <td>[Clothing, Shoes &amp; Jewelry, Women, Clothing, L...</td>\n",
       "    </tr>\n",
       "  </tbody>\n",
       "</table>\n",
       "</div>"
      ],
      "text/plain": [
       "          asin                                              title  \\\n",
       "19  8742240611  Leather and Jute Adjustable Believe Inspiratio...   \n",
       "20  9543894027  Blue Simulated Sapphire Zirconia Austrian Crys...   \n",
       "83  B000074RL3                   Enell Womens WireFree Sports Bra   \n",
       "97  B0000862R1     Amoena Womens Frances FrontClosure Leisure Bra   \n",
       "98  B0000866GL                      Goddess Crepeset Soft Cup Bra   \n",
       "\n",
       "                                              related                brand  \\\n",
       "19  [B018135A52, B00VOXQRAO, B00UVC6YAC, B01DP6GJD...  Gifts by Lulee, LLC   \n",
       "20  [B00N4TIYGQ, B00VHTTN0G, B072HGDY91, B019HCYGZ...   Crystalline Azuria   \n",
       "83  [B00XK08M6Q, B001013YQ0, B07GRFH27C, B0035WTMF...                Enell   \n",
       "97  [B00EJFEUPI, B01AQW9BV0, B0773WC9VP, B01J91GA4...               Amoena   \n",
       "98                                       [B001JQLOWC]              Goddess   \n",
       "\n",
       "                                           categories  \n",
       "19  [Clothing, Shoes & Jewelry, Men, Jewelry, Brac...  \n",
       "20  [Clothing, Shoes & Jewelry, Women, Jewelry, Je...  \n",
       "83  [Clothing, Shoes & Jewelry, Women, Clothing, L...  \n",
       "97  [Clothing, Shoes & Jewelry, Women, Clothing, L...  \n",
       "98  [Clothing, Shoes & Jewelry, Women, Clothing, L...  "
      ]
     },
     "metadata": {},
     "output_type": "display_data"
    },
    {
     "data": {
      "text/html": [
       "<div>\n",
       "<style scoped>\n",
       "    .dataframe tbody tr th:only-of-type {\n",
       "        vertical-align: middle;\n",
       "    }\n",
       "\n",
       "    .dataframe tbody tr th {\n",
       "        vertical-align: top;\n",
       "    }\n",
       "\n",
       "    .dataframe thead th {\n",
       "        text-align: right;\n",
       "    }\n",
       "</style>\n",
       "<table border=\"1\" class=\"dataframe\">\n",
       "  <thead>\n",
       "    <tr style=\"text-align: right;\">\n",
       "      <th></th>\n",
       "      <th>asin</th>\n",
       "      <th>title</th>\n",
       "      <th>related</th>\n",
       "      <th>brand</th>\n",
       "      <th>categories</th>\n",
       "    </tr>\n",
       "  </thead>\n",
       "  <tbody>\n",
       "    <tr>\n",
       "      <th>0</th>\n",
       "      <td>6342509379</td>\n",
       "      <td>QIBOE Mens Baggy Jeans Denim Sweatpants Loose ...</td>\n",
       "      <td>[B072XTTTK9, B07CP532DP, B010V0WTP2, B07C3FNYF...</td>\n",
       "      <td>QIBOE</td>\n",
       "      <td>[Clothing, Shoes &amp; Jewelry, Men, Clothing, Jea...</td>\n",
       "    </tr>\n",
       "    <tr>\n",
       "      <th>1</th>\n",
       "      <td>6342502315</td>\n",
       "      <td>Crazy Womens Voile Crinkle Scarf Shawl</td>\n",
       "      <td>[B0169ZHJDK, B01LYDMB6U, B01LLOUFRQ, B00G9EMVI...</td>\n",
       "      <td>Crazy</td>\n",
       "      <td>[Clothing, Shoes &amp; Jewelry, Women, Accessories...</td>\n",
       "    </tr>\n",
       "    <tr>\n",
       "      <th>2</th>\n",
       "      <td>6342522545</td>\n",
       "      <td>FQQ Women Sexy Lingerie Lace Dress Sheer Babyd...</td>\n",
       "      <td>[B00VBVXVPI]</td>\n",
       "      <td>FQQ</td>\n",
       "      <td>[Clothing, Shoes &amp; Jewelry, Women, Clothing, L...</td>\n",
       "    </tr>\n",
       "    <tr>\n",
       "      <th>3</th>\n",
       "      <td>6342522898</td>\n",
       "      <td>Crazy Womens Sexy Leather Backless Bodycon Clu...</td>\n",
       "      <td>[B0748C68ZX, B01AHZSZ9A, B01H43Z5GY, B01I809NC...</td>\n",
       "      <td>Crazy</td>\n",
       "      <td>[Clothing, Shoes &amp; Jewelry, Women, Clothing, D...</td>\n",
       "    </tr>\n",
       "    <tr>\n",
       "      <th>4</th>\n",
       "      <td>6342523002</td>\n",
       "      <td>FQQ Womens Sexy Lingerie Babydoll Dress Sleepw...</td>\n",
       "      <td>[B01JOVOFRE, B01EKRMG8C, B01LY4VKTL, B004SLKRY...</td>\n",
       "      <td>FQQ</td>\n",
       "      <td>[Clothing, Shoes &amp; Jewelry, Women, Clothing, L...</td>\n",
       "    </tr>\n",
       "  </tbody>\n",
       "</table>\n",
       "</div>"
      ],
      "text/plain": [
       "         asin                                              title  \\\n",
       "0  6342509379  QIBOE Mens Baggy Jeans Denim Sweatpants Loose ...   \n",
       "1  6342502315             Crazy Womens Voile Crinkle Scarf Shawl   \n",
       "2  6342522545  FQQ Women Sexy Lingerie Lace Dress Sheer Babyd...   \n",
       "3  6342522898  Crazy Womens Sexy Leather Backless Bodycon Clu...   \n",
       "4  6342523002  FQQ Womens Sexy Lingerie Babydoll Dress Sleepw...   \n",
       "\n",
       "                                             related  brand  \\\n",
       "0  [B072XTTTK9, B07CP532DP, B010V0WTP2, B07C3FNYF...  QIBOE   \n",
       "1  [B0169ZHJDK, B01LYDMB6U, B01LLOUFRQ, B00G9EMVI...  Crazy   \n",
       "2                                       [B00VBVXVPI]    FQQ   \n",
       "3  [B0748C68ZX, B01AHZSZ9A, B01H43Z5GY, B01I809NC...  Crazy   \n",
       "4  [B01JOVOFRE, B01EKRMG8C, B01LY4VKTL, B004SLKRY...    FQQ   \n",
       "\n",
       "                                          categories  \n",
       "0  [Clothing, Shoes & Jewelry, Men, Clothing, Jea...  \n",
       "1  [Clothing, Shoes & Jewelry, Women, Accessories...  \n",
       "2  [Clothing, Shoes & Jewelry, Women, Clothing, L...  \n",
       "3  [Clothing, Shoes & Jewelry, Women, Clothing, D...  \n",
       "4  [Clothing, Shoes & Jewelry, Women, Clothing, L...  "
      ]
     },
     "metadata": {},
     "output_type": "display_data"
    }
   ],
   "source": [
    "Amazon_data = pd.read_json('preprocessed_dataset.json')\n",
    "\n",
    "display(Amazon_data.head(5))"
   ]
  }
 ],
 "metadata": {
  "kernelspec": {
   "display_name": "Python 3",
   "language": "python",
   "name": "python3"
  },
  "language_info": {
   "codemirror_mode": {
    "name": "ipython",
    "version": 3
   },
   "file_extension": ".py",
   "mimetype": "text/x-python",
   "name": "python",
   "nbconvert_exporter": "python",
   "pygments_lexer": "ipython3",
   "version": "3.12.1"
  }
 },
 "nbformat": 4,
 "nbformat_minor": 2
}
